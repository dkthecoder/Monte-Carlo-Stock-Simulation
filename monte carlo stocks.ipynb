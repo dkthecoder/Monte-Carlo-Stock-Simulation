{
 "cells": [
  {
   "cell_type": "code",
   "execution_count": null,
   "metadata": {},
   "outputs": [],
   "source": [
    "#inspired from this video\n",
    "#https://www.youtube.com/watch?v=_T0l015ecK4"
   ]
  },
  {
   "cell_type": "code",
   "execution_count": 2,
   "metadata": {},
   "outputs": [],
   "source": [
    "import pandas as pd\n",
    "import numpy as np\n",
    "import datetime as dt\n",
    "import pandas_datareader.data as web\n",
    "import matplotlib.pyplot as plt"
   ]
  },
  {
   "cell_type": "code",
   "execution_count": 3,
   "metadata": {},
   "outputs": [],
   "source": [
    "#data retrieval variables\n",
    "start = dt.datetime(2018, 1, 1)\n",
    "end = dt.datetime.now()\n",
    "stock = \"FB\"\n",
    "data_source = 'yahoo'\n",
    "\n",
    "# capture data to data frame\n",
    "prices = web.DataReader(stock, data_source, start, end)['Close']\n",
    "returns = prices.pct_change()\n",
    "last_price = prices[-1]"
   ]
  },
  {
   "cell_type": "code",
   "execution_count": null,
   "metadata": {},
   "outputs": [],
   "source": [
    "# simulation parameters\n",
    "sim_num = 1000\n",
    "days = 365"
   ]
  },
  {
   "cell_type": "code",
   "execution_count": null,
   "metadata": {},
   "outputs": [],
   "source": [
    "#monte carlo\n",
    "simulation_df = pd.DataFrame()\n",
    "for x in range(sim_num):\n",
    "    counter = 0\n",
    "    daily_vol = returns.std()\n",
    "\n",
    "    price_series = []\n",
    "\n",
    "    price = last_price * (1 + np.random.normal(0, daily_vol))\n",
    "    price_series.append(price)\n",
    "\n",
    "    for y in range(days):\n",
    "        if counter == days -1:\n",
    "            break\n",
    "        price = price_series[counter] * (1 + np.random.normal(0, daily_vol))\n",
    "        price_series. append(price)\n",
    "        counter += 1\n",
    "    simulation_df[x] = price_series"
   ]
  },
  {
   "cell_type": "code",
   "execution_count": null,
   "metadata": {},
   "outputs": [],
   "source": [
    "# produce results on mathplot\n",
    "fig = plt.figure()\n",
    "plt.plot(simulation_df)\n",
    "plt.axhline(y = last_price, color = 'r', linestyle = '-')\n",
    "plt.xlabel('Time (Days)')\n",
    "plt.ylabel('Price')\n",
    "plt.show()"
   ]
  }
 ],
 "metadata": {
  "language_info": {
   "codemirror_mode": {
    "name": "ipython",
    "version": 3
   },
   "file_extension": ".py",
   "mimetype": "text/x-python",
   "name": "python",
   "nbconvert_exporter": "python",
   "pygments_lexer": "ipython3",
   "version": 3
  },
  "orig_nbformat": 2,
  "kernelspec": {
   "name": "python_defaultSpec_1594336520385",
   "display_name": "Python 3.8.2 32-bit"
  }
 },
 "nbformat": 4,
 "nbformat_minor": 2
}